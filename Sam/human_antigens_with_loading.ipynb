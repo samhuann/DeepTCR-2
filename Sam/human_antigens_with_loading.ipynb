{
 "cells": [
  {
   "cell_type": "code",
   "execution_count": 1,
   "metadata": {},
   "outputs": [
    {
     "name": "stderr",
     "output_type": "stream",
     "text": [
      "2025-06-18 15:34:36.163774: I tensorflow/core/util/port.cc:113] oneDNN custom operations are on. You may see slightly different numerical results due to floating-point round-off errors from different computation orders. To turn them off, set the environment variable `TF_ENABLE_ONEDNN_OPTS=0`.\n",
      "2025-06-18 15:34:36.201258: E external/local_xla/xla/stream_executor/cuda/cuda_dnn.cc:9261] Unable to register cuDNN factory: Attempting to register factory for plugin cuDNN when one has already been registered\n",
      "2025-06-18 15:34:36.201280: E external/local_xla/xla/stream_executor/cuda/cuda_fft.cc:607] Unable to register cuFFT factory: Attempting to register factory for plugin cuFFT when one has already been registered\n",
      "2025-06-18 15:34:36.201944: E external/local_xla/xla/stream_executor/cuda/cuda_blas.cc:1515] Unable to register cuBLAS factory: Attempting to register factory for plugin cuBLAS when one has already been registered\n",
      "2025-06-18 15:34:36.207344: I tensorflow/core/platform/cpu_feature_guard.cc:182] This TensorFlow binary is optimized to use available CPU instructions in performance-critical operations.\n",
      "To enable the following instructions: SSE4.1 SSE4.2 AVX AVX2 AVX512F AVX512_VNNI AVX512_BF16 AVX_VNNI AMX_TILE AMX_INT8 AMX_BF16 FMA, in other operations, rebuild TensorFlow with the appropriate compiler flags.\n"
     ]
    }
   ],
   "source": [
    "import os\n",
    "import pandas as pd\n",
    "import numpy as np\n",
    "import tensorflow as tf"
   ]
  },
  {
   "cell_type": "code",
   "execution_count": 2,
   "metadata": {},
   "outputs": [],
   "source": [
    "def load_tcr_dataset_from_dir(data_dir, batch_size=100, max_len=40, shuffle=True):\n",
    "    # Collect files and label metadata\n",
    "    df_rep = pd.DataFrame(glob(os.path.join(data_dir, '*/*.tsv')), columns=['filepath'])\n",
    "    df_rep[['HLA', 'Antigen']] = df_rep['filepath'].str.extract(r'/([^/-]+)-([^/-]+)/[^/]+$')\n",
    "\n",
    "    # Load all TSV files into one DataFrame\n",
    "    df_tcr = []\n",
    "    for idx in df_rep.index:\n",
    "        df = pd.read_csv(df_rep.loc[idx, 'filepath'], sep='\\t')\n",
    "        df['index'] = idx\n",
    "        df[['HLA', 'Antigen']] = df_rep.loc[idx, ['HLA', 'Antigen']].values\n",
    "        df_tcr.append(df)\n",
    "    df_tcr = pd.concat(df_tcr)\n",
    "    df_tcr['Antigen'] = df_tcr['Antigen'].astype('category')\n",
    "\n",
    "    # Filter and encode\n",
    "    idx = ~df_tcr[['aminoAcid', 'Antigen']].isna().any(axis=1)\n",
    "    X = df_tcr.loc[idx, 'aminoAcid'].values\n",
    "    y = df_tcr.loc[idx, 'Antigen'].cat.codes.values\n",
    "    label_map = dict(enumerate(df_tcr.loc[idx, 'Antigen'].cat.categories))\n",
    "\n",
    "    max_length = min(max(map(len, X)), max_len)\n",
    "    vocab = sorted(set(''.join(X)))\n",
    "    aa_dict = {aa: i + 1 for i, aa in enumerate(vocab)}  # +1 for 0 padding\n",
    "    vocab_size = len(aa_dict) + 1\n",
    "\n",
    "    # Pad and convert to integers\n",
    "    X_encoded = np.zeros((len(X), max_length), dtype=np.int32)\n",
    "    for i, seq in enumerate(X):\n",
    "        for j, aa in enumerate(seq[:max_length]):\n",
    "            X_encoded[i, j] = aa_dict.get(aa, 0)\n",
    "\n",
    "    # Create TensorFlow dataset\n",
    "    ds = tf.data.Dataset.from_tensor_slices((X_encoded, y))\n",
    "    ds = ds.map(lambda x, y: (x, tf.one_hot(y, len(label_map))))\n",
    "    if shuffle:\n",
    "        ds = ds.shuffle(len(X_encoded))\n",
    "    ds = ds.batch(batch_size).prefetch(tf.data.AUTOTUNE)\n",
    "\n",
    "    return ds, aa_dict, label_map, vocab_size"
   ]
  },
  {
   "cell_type": "code",
   "execution_count": null,
   "metadata": {},
   "outputs": [],
   "source": []
  }
 ],
 "metadata": {
  "kernelspec": {
   "display_name": "py3.11-gpu-ml-base",
   "language": "python",
   "name": "python3"
  },
  "language_info": {
   "codemirror_mode": {
    "name": "ipython",
    "version": 3
   },
   "file_extension": ".py",
   "mimetype": "text/x-python",
   "name": "python",
   "nbconvert_exporter": "python",
   "pygments_lexer": "ipython3",
   "version": "3.11.12"
  }
 },
 "nbformat": 4,
 "nbformat_minor": 2
}
